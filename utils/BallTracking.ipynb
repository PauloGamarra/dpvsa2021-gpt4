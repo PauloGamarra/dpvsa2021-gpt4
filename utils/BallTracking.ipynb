{
 "cells": [
  {
   "cell_type": "markdown",
   "id": "570cf9ed",
   "metadata": {},
   "source": [
    "# Ball tracking"
   ]
  },
  {
   "cell_type": "code",
   "execution_count": 1,
   "id": "0d3d257b",
   "metadata": {},
   "outputs": [],
   "source": [
    "import cv2"
   ]
  },
  {
   "cell_type": "code",
   "execution_count": null,
   "id": "3e58499b",
   "metadata": {},
   "outputs": [],
   "source": [
    "cap = cv2.VideoCapture(1)\n",
    "#tracker = cv2.TrackerMOSSE_create()\n",
    "tracker = cv2.TrackerCSRT_create()\n",
    "success, img = cap.read()\n",
    "bbox = cv2.selectROI(\"Tracking\", img, False) # pass another bouding box region like (x, y, w, h)\n",
    "tracker.init(img, bbox)\n",
    "\n",
    "def drawbox(img, bbox):\n",
    "    x,y,w,h = int(bbox[0]), int(bbox[1]), int(bbox[2]), int(bbox[3]) \n",
    "    cv2.rectangle(img, (x,y), ((x+y), (y+h)), (255, 0, 255), 3, 1)\n",
    "\n",
    "while True:\n",
    "    success, img = cap.read()\n",
    "    \n",
    "    success, bbox = tracker.update(img)\n",
    "    \n",
    "    if success:\n",
    "        drawBox(img, bbox)\n",
    "        \n",
    "    cv2.imshow(\"TRacking\", img)\n",
    "    \n",
    "    if cv2.waitKey(1) & 0xff == ord('q'):\n",
    "        break"
   ]
  }
 ],
 "metadata": {
  "kernelspec": {
   "display_name": "Python 3 (ipykernel)",
   "language": "python",
   "name": "python3"
  },
  "language_info": {
   "codemirror_mode": {
    "name": "ipython",
    "version": 3
   },
   "file_extension": ".py",
   "mimetype": "text/x-python",
   "name": "python",
   "nbconvert_exporter": "python",
   "pygments_lexer": "ipython3",
   "version": "3.9.7"
  }
 },
 "nbformat": 4,
 "nbformat_minor": 5
}
